{
  "nbformat": 4,
  "nbformat_minor": 0,
  "metadata": {
    "colab": {
      "provenance": [],
      "authorship_tag": "ABX9TyO1dblSeJKd1MNpsa1ptDG8",
      "include_colab_link": true
    },
    "kernelspec": {
      "name": "python3",
      "display_name": "Python 3"
    },
    "language_info": {
      "name": "python"
    }
  },
  "cells": [
    {
      "cell_type": "markdown",
      "metadata": {
        "id": "view-in-github",
        "colab_type": "text"
      },
      "source": [
        "<a href=\"https://colab.research.google.com/github/MohsinKhan94/Assignment-4/blob/main/Guess_the_number_user.ipynb\" target=\"_parent\"><img src=\"https://colab.research.google.com/assets/colab-badge.svg\" alt=\"Open In Colab\"/></a>"
      ]
    },
    {
      "cell_type": "code",
      "execution_count": 3,
      "metadata": {
        "colab": {
          "base_uri": "https://localhost:8080/"
        },
        "id": "z0kbQWOcZ_oR",
        "outputId": "c7ccfcb1-569c-491b-a7d7-0e254b524c28"
      },
      "outputs": [
        {
          "output_type": "stream",
          "name": "stdout",
          "text": [
            "Welcome to the Number Guessing Game!\n",
            "I have chosen a number between 1 and 10. Can you guess it?\n",
            "Enter your guess: 3\n",
            "Too high. Try again.\n",
            "Enter your guess: 1\n",
            "🎉 Congratulations! You guessed the number!\n"
          ]
        }
      ],
      "source": [
        "import random\n",
        "\n",
        "print(\"Welcome to the Number Guessing Game!\")\n",
        "\n",
        "secret_number = random.randint(1, 10)\n",
        "print(\"I have chosen a number between 1 and 10. Can you guess it?\")\n",
        "\n",
        "while True:\n",
        "    try:\n",
        "        guess = int(input(\"Enter your guess: \"))\n",
        "        if guess > secret_number:\n",
        "            print(\"Too high. Try again.\")\n",
        "        elif guess < secret_number:\n",
        "            print(\"Too low. Try again.\")\n",
        "        else:\n",
        "            print(\"🎉 Congratulations! You guessed the number!\")\n",
        "            break\n",
        "    except ValueError:\n",
        "        print(\"Invalid input. Please enter a number.\")\n"
      ]
    }
  ]
}