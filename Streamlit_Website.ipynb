{
  "nbformat": 4,
  "nbformat_minor": 0,
  "metadata": {
    "colab": {
      "provenance": [],
      "authorship_tag": "ABX9TyOQ4OINODIUQLY71gXoN5hj",
      "include_colab_link": true
    },
    "kernelspec": {
      "name": "python3",
      "display_name": "Python 3"
    },
    "language_info": {
      "name": "python"
    }
  },
  "cells": [
    {
      "cell_type": "markdown",
      "metadata": {
        "id": "view-in-github",
        "colab_type": "text"
      },
      "source": [
        "<a href=\"https://colab.research.google.com/github/MohsinKhan94/Assignment-4/blob/main/Streamlit_Website.ipynb\" target=\"_parent\"><img src=\"https://colab.research.google.com/assets/colab-badge.svg\" alt=\"Open In Colab\"/></a>"
      ]
    },
    {
      "cell_type": "code",
      "source": [
        "import streamlit as st\n",
        "\n",
        "# Set page configuration\n",
        "st.set_page_config(page_title=\"My First Streamlit Website\", layout=\"centered\")\n",
        "\n",
        "# Add a title to the page\n",
        "st.title(\"Welcome to My First Python Website\")\n",
        "\n",
        "# Add a sidebar with navigation links\n",
        "sidebar = st.sidebar\n",
        "sidebar.title(\"Navigation\")\n",
        "page = sidebar.radio(\"Go to\", [\"Home\", \"About\", \"Contact\"])\n",
        "\n",
        "# Home Page\n",
        "if page == \"Home\":\n",
        "    st.header(\"Home\")\n",
        "    st.write(\"\"\"\n",
        "    Welcome to my first Streamlit website! This is the Home page where you will find some basic information about the website and its purpose.\n",
        "    Feel free to explore the other pages using the sidebar.\n",
        "    \"\"\")\n",
        "\n",
        "# About Page\n",
        "elif page == \"About\":\n",
        "    st.header(\"About\")\n",
        "    st.write(\"\"\"\n",
        "    This website was created using Streamlit, a Python library for creating interactive web applications with minimal effort.\n",
        "    It is designed to be simple, clean, and easy to use. The focus is on providing a minimalistic user experience.\n",
        "    \"\"\")\n",
        "\n",
        "# Contact Page\n",
        "elif page == \"Contact\":\n",
        "    st.header(\"Contact\")\n",
        "    st.write(\"\"\"\n",
        "    You can reach out to me through the following contact methods:\n",
        "\n",
        "    - Email: example@example.com\n",
        "\n",
        "    I'm open to any feedback, suggestions, or inquiries.\n",
        "    \"\"\")\n",
        "\n"
      ],
      "metadata": {
        "id": "pXRVQO_Omvoa"
      },
      "execution_count": null,
      "outputs": []
    }
  ]
}