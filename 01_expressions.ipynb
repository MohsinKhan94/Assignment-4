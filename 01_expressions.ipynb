{
  "nbformat": 4,
  "nbformat_minor": 0,
  "metadata": {
    "colab": {
      "provenance": [],
      "authorship_tag": "ABX9TyN/c5goROH6zgcHSSKM3fxe",
      "include_colab_link": true
    },
    "kernelspec": {
      "name": "python3",
      "display_name": "Python 3"
    },
    "language_info": {
      "name": "python"
    }
  },
  "cells": [
    {
      "cell_type": "markdown",
      "metadata": {
        "id": "view-in-github",
        "colab_type": "text"
      },
      "source": [
        "<a href=\"https://colab.research.google.com/github/MohsinKhan94/Assignment-4/blob/main/01_expressions.ipynb\" target=\"_parent\"><img src=\"https://colab.research.google.com/assets/colab-badge.svg\" alt=\"Open In Colab\"/></a>"
      ]
    },
    {
      "cell_type": "code",
      "source": [
        "print(\"01_dicesimulator\")\n",
        "\n",
        "\"\"\"\n",
        "Program: dicesimulator\n",
        "________________\n",
        "\"\"\"\n",
        "import random\n",
        "\n",
        "NUM_SIDES = 6\n",
        "\n",
        "def roll_dice():\n",
        "  \"\"\"\n",
        "  Simulates rolling two dice and prints their total\n",
        "  \"\"\"\n",
        "  die1: int = random.randint(1, NUM_SIDES)\n",
        "  die2: int = random.randint(1,NUM_SIDES)\n",
        "  total: int = die1 + die2\n",
        "  print(\"Total of two dice\", total)\n",
        "\n",
        "def main():\n",
        "  die1: int = 10\n",
        "  print(\"die1 in main() starts as: \" + str(die1))\n",
        "  roll_dice()\n",
        "  roll_dice()\n",
        "  roll_dice()\n",
        "  print(\"die1 in main() is: \" + str(die1))\n",
        "\n",
        "\n",
        "if __name__ == '__main__':\n",
        "  main()"
      ],
      "metadata": {
        "colab": {
          "base_uri": "https://localhost:8080/"
        },
        "id": "_-zic0RZeSSF",
        "outputId": "4b6681a7-ad06-422a-d33b-b41035706931"
      },
      "execution_count": null,
      "outputs": [
        {
          "output_type": "stream",
          "name": "stdout",
          "text": [
            "01_dicesimulator\n",
            "die1 in main() starts as: 10\n",
            "Total of two dice 9\n",
            "Total of two dice 6\n",
            "Total of two dice 10\n",
            "die1 in main() is: 10\n"
          ]
        }
      ]
    },
    {
      "cell_type": "code",
      "source": [
        "\"\"\"\n",
        "Program to calculate energy using Einstein's equation: E = mc²\n",
        "\"\"\"\n",
        "\n",
        "print(\"02_e=mc2\")\n",
        "\n",
        "C: int = 299792458  # The speed of light in m/s\n",
        "\n",
        "def main():\n",
        "    mass_in_kg: float = float(input(\"Enter kilos of mass: \"))  # Get mass from user\n",
        "\n",
        "    # Calculate energy using Einstein's formula: E = mc²\n",
        "    energy_in_joules: float = mass_in_kg * (C ** 2)\n",
        "\n",
        "    # Display results\n",
        "    print(\"\\ne = m * C^2...\")\n",
        "    print(f\"m = {mass_in_kg} kg\")\n",
        "    print(f\"C = {C} m/s\")\n",
        "    print(f\"{energy_in_joules} Joules of energy!\")\n",
        "\n",
        "# Required to call the main function\n",
        "if __name__ == '__main__':\n",
        "    main()\n"
      ],
      "metadata": {
        "colab": {
          "base_uri": "https://localhost:8080/"
        },
        "id": "ynK_o33IhvG1",
        "outputId": "cc4b0908-c4cf-43f0-ee4f-0d5ed265844b"
      },
      "execution_count": null,
      "outputs": [
        {
          "output_type": "stream",
          "name": "stdout",
          "text": [
            "02_e=mc2\n",
            "Enter kilos of mass: 2\n",
            "\n",
            "e = m * C^2...\n",
            "m = 2.0 kg\n",
            "C = 299792458 m/s\n",
            "1.7975103574736352e+17 Joules of energy!\n"
          ]
        }
      ]
    },
    {
      "cell_type": "code",
      "source": [
        "print(\"03_feet_to_inches\")\n",
        "\"\"\"\n",
        "Program to convert feet to inches.\n",
        "\"\"\"\n",
        "INCHES_IN_FOOT: int = 12  # Conversion factor\n",
        "\n",
        "def main():\n",
        "    feet: float = float(input(\"Enter the number of feet: \"))  # Get user input\n",
        "    inches: float = feet * INCHES_IN_FOOT  # Convert to inches\n",
        "    print(f\"{feet} feet is equal to {inches} inches.\")  # Display result\n",
        "\n",
        "# Required to call the main function\n",
        "if __name__ == '__main__':\n",
        "    main()"
      ],
      "metadata": {
        "colab": {
          "base_uri": "https://localhost:8080/"
        },
        "id": "nEWqNSXghjKO",
        "outputId": "93f911b4-0a14-414b-b650-3e3a4c59c17b"
      },
      "execution_count": null,
      "outputs": [
        {
          "output_type": "stream",
          "name": "stdout",
          "text": [
            "03_feet_to_inches\n",
            "Enter the number of feet: 3\n",
            "3.0 feet is equal to 36.0 inches.\n"
          ]
        }
      ]
    },
    {
      "cell_type": "code",
      "source": [
        "print(\"04_pythagorean_theorem\")\n",
        "\n",
        "import math\n",
        "\n",
        "def main():\n",
        "  # Get user input for the two perpendicular sides of the right triangle\n",
        "  ab: float = float(input(\"Enter the length of AB: \"))\n",
        "  ac: float = float(input(\"Enter the length of AC: \"))\n",
        "\n",
        "  # Apply the Pythagorean theorem: BC² = AB² + AC²\n",
        "  bc: float = math.sqrt(ab**2 + ac**2)  # Calculate the hypotenuse\n",
        "\n",
        "  #display the result\n",
        "  print(f\"The length of BC (the hypotenuse) is: {bc}\")\n",
        "\n",
        "if __name__ == '__main__':\n",
        "    main()"
      ],
      "metadata": {
        "colab": {
          "base_uri": "https://localhost:8080/"
        },
        "id": "d2FgzpevjUOm",
        "outputId": "1c2cfa47-3a07-4f42-cc62-c4fdf3a7fb41"
      },
      "execution_count": null,
      "outputs": [
        {
          "output_type": "stream",
          "name": "stdout",
          "text": [
            "04_pythagorean_theorem\n",
            "Enter the length of AB: 2\n",
            "Enter the length of AC: 3\n",
            "The length of BC (the hypotenuse) is: 3.605551275463989\n"
          ]
        }
      ]
    },
    {
      "cell_type": "code",
      "source": [
        "print(\"05_remainder_division\")\n",
        "\n",
        "def main():\n",
        "  dividend: int = int(input(\"Please enter an integer to be divided: \"))\n",
        "  divisor: int = int(input(\"Please enter an integer to divide by : \"))\n",
        "\n",
        "  quotient: int = dividend // divisor\n",
        "  remainder: int = dividend % divisor\n",
        "\n",
        "  print(\"The result of this division is \" + str(quotient) + \" with a remainder of \" + str(remainder))\n",
        "\n",
        "if __name__ == '__main__':\n",
        "  main()"
      ],
      "metadata": {
        "colab": {
          "base_uri": "https://localhost:8080/"
        },
        "id": "qlCyMSXIlObw",
        "outputId": "7a075623-d268-427f-907a-79829a7b0ff0"
      },
      "execution_count": null,
      "outputs": [
        {
          "output_type": "stream",
          "name": "stdout",
          "text": [
            "05_remainder_division\n",
            "Please enter an integer to be divided: 10\n",
            "Please enter an integer to divide by : 2\n",
            "The result of this division is 5 with a remainder of 0\n"
          ]
        }
      ]
    },
    {
      "cell_type": "code",
      "source": [
        "print(\"06_rolldice\")\n",
        "\n",
        "\"\"\"\n",
        "Simulate rolling two dice, and prints results of each\n",
        "roll as well as the total.\n",
        "\"\"\"\n",
        "\n",
        "import random\n",
        "\n",
        "NUM_SIDES = 6\n",
        "\n",
        "def main():\n",
        "    random.seed(1)\n",
        "\n",
        "    die1: int = random.randint(1, NUM_SIDES)\n",
        "    die2: int = random.randint(1, NUM_SIDES)\n",
        "\n",
        "    total: int = die1 + die2\n",
        "\n",
        "    print(\"Dice have\", NUM_SIDES, \"sides each\")\n",
        "    print(\"First die:\", die1)\n",
        "    print(\"Second die:\", die2)\n",
        "    print(\"Total:\", total)\n",
        "\n",
        "if __name__ == '__main__':\n",
        "    main()\n"
      ],
      "metadata": {
        "colab": {
          "base_uri": "https://localhost:8080/"
        },
        "id": "XT88L7P_2Y-X",
        "outputId": "976ca7e7-bdf5-417d-9387-132ea87ee1f1"
      },
      "execution_count": 7,
      "outputs": [
        {
          "output_type": "stream",
          "name": "stdout",
          "text": [
            "06_rolldice\n",
            "Dice have 6 sides each\n",
            "First die: 2\n",
            "Second die: 5\n",
            "Total: 7\n"
          ]
        }
      ]
    },
    {
      "cell_type": "code",
      "source": [
        "print(\"06_seconds_in_year\")\n",
        "\n",
        "DAYS_PER_YEAR = 365\n",
        "HOURS_PER_DAY = 24\n",
        "MIN_PER_HOUR = 60\n",
        "SEC_PER_MIN = 60\n",
        "\n",
        "def main():\n",
        "  print(\"There are \", str(DAYS_PER_YEAR * HOURS_PER_DAY * MIN_PER_HOUR * SEC_PER_MIN) + \"seconds in year\")\n",
        "\n",
        "if __name__ == '__main__':\n",
        "  main()\n",
        "\n",
        "\n",
        "\n"
      ],
      "metadata": {
        "colab": {
          "base_uri": "https://localhost:8080/"
        },
        "id": "bcaF0DfK4YiE",
        "outputId": "da8cfbb7-7c27-4a60-b0ec-64935a391dd4"
      },
      "execution_count": 8,
      "outputs": [
        {
          "output_type": "stream",
          "name": "stdout",
          "text": [
            "06_seconds_in_year\n",
            "There are  31536000seconds in year\n"
          ]
        }
      ]
    },
    {
      "cell_type": "code",
      "source": [
        "print(\"07_tiny_mad_lib\")\n",
        "\n",
        "SENTENCE_START: str = \"Panaversity is fun. I learned to program and used Python to make my \"\n",
        "\n",
        "def main():\n",
        "\n",
        "    adjective: str = input(\"Please type an adjective and press enter: \").strip()\n",
        "    noun: str = input(\"Please type a noun and press enter: \").strip()\n",
        "    verb: str = input(\"Please type a verb and press enter: \").strip()\n",
        "\n",
        "\n",
        "    print(SENTENCE_START + adjective + \" \" + noun + \" \" + verb + \"!\")\n",
        "\n",
        "\n",
        "if __name__ == '__main__':\n",
        "    main()\n"
      ],
      "metadata": {
        "id": "Tfvf_QmH6N-P"
      },
      "execution_count": null,
      "outputs": []
    }
  ]
}