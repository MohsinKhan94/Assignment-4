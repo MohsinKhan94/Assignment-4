{
  "nbformat": 4,
  "nbformat_minor": 0,
  "metadata": {
    "colab": {
      "provenance": [],
      "authorship_tag": "ABX9TyPa9jgwaGtGfSRolMp1AevL",
      "include_colab_link": true
    },
    "kernelspec": {
      "name": "python3",
      "display_name": "Python 3"
    },
    "language_info": {
      "name": "python"
    }
  },
  "cells": [
    {
      "cell_type": "markdown",
      "metadata": {
        "id": "view-in-github",
        "colab_type": "text"
      },
      "source": [
        "<a href=\"https://colab.research.google.com/github/MohsinKhan94/Assignment-4/blob/main/02_intermediate.ipynb\" target=\"_parent\"><img src=\"https://colab.research.google.com/assets/colab-badge.svg\" alt=\"Open In Colab\"/></a>"
      ]
    },
    {
      "cell_type": "code",
      "source": [
        "print(\"Intro to pyton\")\n",
        "\n",
        "# Dictionary to store gravity ratios for each planet\n",
        "gravity_constants = {\n",
        "    \"Mercury\": 0.376,\n",
        "    \"Venus\": 0.889,\n",
        "    \"Mars\": 0.378,\n",
        "    \"Jupiter\": 2.36,\n",
        "    \"Saturn\": 1.081,\n",
        "    \"Uranus\": 0.815,\n",
        "    \"Neptune\": 1.14\n",
        "}\n",
        "\n",
        "# Prompt user for their Earth weight\n",
        "earth_weight = float(input(\"Enter a weight on Earth: \"))\n",
        "\n",
        "# Prompt user for the planet\n",
        "planet = input(\"Enter a planet: \")\n",
        "\n",
        "# Calculate equivalent weight\n",
        "if planet in gravity_constants:\n",
        "    planet_weight = round(earth_weight * gravity_constants[planet], 2)\n",
        "    print(f\"\\nThe equivalent weight on {planet}: {planet_weight}\")\n",
        "else:\n",
        "    print(\"That planet is not in our database!\")\n"
      ],
      "metadata": {
        "colab": {
          "base_uri": "https://localhost:8080/"
        },
        "id": "x1a0CspnNbOX",
        "outputId": "874dc72a-0c52-46c5-e984-1d984f474313"
      },
      "execution_count": null,
      "outputs": [
        {
          "output_type": "stream",
          "name": "stdout",
          "text": [
            "Enter a weight on Earth: 56\n",
            "Enter a planet: Mars\n",
            "\n",
            "The equivalent weight on Mars: 21.17\n"
          ]
        }
      ]
    },
    {
      "cell_type": "code",
      "source": [
        "print(\"Control Flow for Console\")\n",
        "\n",
        "import random\n",
        "\n",
        "NUM_ROUNDS = 5  # You can change this to any number of rounds\n",
        "\n",
        "print(\"Welcome to the High-Low Game!\")\n",
        "print(\"--------------------------------\")\n",
        "\n",
        "score = 0\n",
        "\n",
        "for round_num in range(1, NUM_ROUNDS + 1):\n",
        "    print(f\"Round {round_num}\")\n",
        "\n",
        "    user_number = random.randint(1, 100)\n",
        "    computer_number = random.randint(1, 100)\n",
        "\n",
        "    print(f\"Your number is {user_number}\")\n",
        "\n",
        "    # Safeguard user input\n",
        "    guess = input(\"Do you think your number is higher or lower than the computer's?: \").lower()\n",
        "    while guess not in [\"higher\", \"lower\"]:\n",
        "        guess = input(\"Please enter either higher or lower: \").lower()\n",
        "\n",
        "    # Game logic\n",
        "    if user_number > computer_number and guess == \"higher\":\n",
        "        print(f\"You were right! The computer's number was {computer_number}\")\n",
        "        score += 1\n",
        "    elif user_number < computer_number and guess == \"lower\":\n",
        "        print(f\"You were right! The computer's number was {computer_number}\")\n",
        "        score += 1\n",
        "    else:\n",
        "        print(f\"Aww, that's incorrect. The computer's number was {computer_number}\")\n",
        "\n",
        "    print(f\"Your score is now {score}\\n\")\n",
        "\n",
        "# Final message based on score\n",
        "print(\"Thanks for playing!\")\n",
        "\n",
        "if score == NUM_ROUNDS:\n",
        "    print(\"Wow! You played perfectly!\")\n",
        "elif score >= NUM_ROUNDS // 2:\n",
        "    print(\"Good job, you played really well!\")\n",
        "else:\n",
        "    print(\"Better luck next time!\")\n"
      ],
      "metadata": {
        "id": "ZomsGcMKOpG9"
      },
      "execution_count": null,
      "outputs": []
    },
    {
      "cell_type": "code",
      "source": [
        "print(\"List and Dictionary\")\n",
        "\n",
        "def access_element(my_list, index):\n",
        "    try:\n",
        "        return f\"Element at index {index}: {my_list[index]}\"\n",
        "    except IndexError:\n",
        "        return \"Index out of range!\"\n",
        "\n",
        "def modify_element(my_list, index, new_value):\n",
        "    try:\n",
        "        old_value = my_list[index]\n",
        "        my_list[index] = new_value\n",
        "        return f\"Replaced '{old_value}' with '{new_value}' at index {index}.\"\n",
        "    except IndexError:\n",
        "        return \"Index out of range!\"\n",
        "\n",
        "def slice_list(my_list, start, end):\n",
        "    # Python handles out-of-range slicing automatically\n",
        "    return my_list[start:end]\n",
        "\n",
        "def index_game():\n",
        "    my_list = ['apple', 42, 'banana', 99, 'cherry']\n",
        "    print(\"Initial List:\", my_list)\n",
        "\n",
        "    while True:\n",
        "        print(\"\\nChoose an operation:\")\n",
        "        print(\"1 - Access an element\")\n",
        "        print(\"2 - Modify an element\")\n",
        "        print(\"3 - Slice the list\")\n",
        "        print(\"4 - Exit\")\n",
        "\n",
        "        choice = input(\"Enter your choice (1-4): \")\n",
        "\n",
        "        if choice == '1':\n",
        "            idx = int(input(\"Enter the index to access: \"))\n",
        "            print(access_element(my_list, idx))\n",
        "\n",
        "        elif choice == '2':\n",
        "            idx = int(input(\"Enter the index to modify: \"))\n",
        "            new_val = input(\"Enter the new value: \")\n",
        "            # Convert to int if it's a number\n",
        "            try:\n",
        "                new_val = int(new_val)\n",
        "            except ValueError:\n",
        "                pass\n",
        "            print(modify_element(my_list, idx, new_val))\n",
        "            print(\"Updated List:\", my_list)\n",
        "\n",
        "        elif choice == '3':\n",
        "            start = int(input(\"Enter start index: \"))\n",
        "            end = int(input(\"Enter end index: \"))\n",
        "            sliced = slice_list(my_list, start, end)\n",
        "            print(\"Sliced List:\", sliced)\n",
        "\n",
        "        elif choice == '4':\n",
        "            print(\"Goodbye!\")\n",
        "            break\n",
        "\n",
        "        else:\n",
        "            print(\"Invalid choice. Please choose 1, 2, 3, or 4.\")\n",
        "\n",
        "# Start the game\n",
        "index_game()\n"
      ],
      "metadata": {
        "id": "zYnEmdqyPQKD"
      },
      "execution_count": null,
      "outputs": []
    }
  ]
}