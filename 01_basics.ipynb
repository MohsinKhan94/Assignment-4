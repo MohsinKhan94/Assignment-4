{
  "nbformat": 4,
  "nbformat_minor": 0,
  "metadata": {
    "colab": {
      "provenance": [],
      "authorship_tag": "ABX9TyNSMZ2e8mpuJ0h3i1MW8bIv",
      "include_colab_link": true
    },
    "kernelspec": {
      "name": "python3",
      "display_name": "Python 3"
    },
    "language_info": {
      "name": "python"
    }
  },
  "cells": [
    {
      "cell_type": "markdown",
      "metadata": {
        "id": "view-in-github",
        "colab_type": "text"
      },
      "source": [
        "<a href=\"https://colab.research.google.com/github/MohsinKhan94/Assignment-4/blob/main/01_basics.ipynb\" target=\"_parent\"><img src=\"https://colab.research.google.com/assets/colab-badge.svg\" alt=\"Open In Colab\"/></a>"
      ]
    },
    {
      "cell_type": "code",
      "source": [
        "print(\"00_joke_bot\")\n",
        "\n",
        "PROMPT: str = \"What do you want? \"\n",
        "JOKE: str = (\"Here is a joke for you! Panaversity GPT - Sophia is heading out to the grocery store. \"\n",
        "             \"A programmer tells her: get a liter of milk, and if they have eggs, get 12. \"\n",
        "             \"Sophia returns with 13 liters of milk. The programmer asks why and Sophia replies: \"\n",
        "             \"'because they had eggs'\")\n",
        "SORRY: str = \"Sorry I only tell jokes.\"\n",
        "\n",
        "def main():\n",
        "    user_input = input(PROMPT)\n",
        "\n",
        "    if user_input == \"Joke\":\n",
        "        print(JOKE)\n",
        "    else:\n",
        "        print(SORRY)\n",
        "\n",
        "if __name__ == '__main__':\n",
        "    main()\n"
      ],
      "metadata": {
        "colab": {
          "base_uri": "https://localhost:8080/"
        },
        "id": "tIe_exGKYw2b",
        "outputId": "aad8e68c-50b6-46d8-969f-d4c952386998"
      },
      "execution_count": 8,
      "outputs": [
        {
          "output_type": "stream",
          "name": "stdout",
          "text": [
            "00_joke_bot\n",
            "What do you want? Joke\n",
            "Here is a joke for you! Panaversity GPT - Sophia is heading out to the grocery store. A programmer tells her: get a liter of milk, and if they have eggs, get 12. Sophia returns with 13 liters of milk. The programmer asks why and Sophia replies: 'because they had eggs'\n"
          ]
        }
      ]
    },
    {
      "cell_type": "code",
      "source": [
        "print(\"01_double_it\")\n",
        "\n",
        "def main():\n",
        "    # Ask user to enter a number\n",
        "    curr_value = int(input(\"Enter a number: \"))\n",
        "\n",
        "    # Double the number until it reaches 100 or more\n",
        "    while curr_value < 100:\n",
        "        curr_value = curr_value * 2\n",
        "        print(curr_value)\n",
        "\n",
        "# This line calls main() when the script runs\n",
        "if __name__ == '__main__':\n",
        "    main()\n"
      ],
      "metadata": {
        "id": "c7qhyC-jaxI-"
      },
      "execution_count": null,
      "outputs": []
    },
    {
      "cell_type": "code",
      "source": [
        "print(\"02_liftoff\")\n",
        "\n",
        "def main():\n",
        "    for i in range(10, 0, -1):\n",
        "        print(i, end=\" \")\n",
        "    print(\"Liftoff!\")\n",
        "\n",
        "if __name__ == '__main__':\n",
        "    main()\n"
      ],
      "metadata": {
        "id": "4iFgyKqobALv"
      },
      "execution_count": null,
      "outputs": []
    },
    {
      "cell_type": "code",
      "source": [
        "print(\"03_guess_my_number\")\n",
        "\n",
        "import random\n",
        "\n",
        "def main():\n",
        "    secret_number = random.randint(1, 99)\n",
        "    print(\"I am thinking of a number between 1 and 99...\")\n",
        "\n",
        "    while (guess := int(input(\"Enter a guess: \"))) != secret_number:\n",
        "        print(\"Your guess is too low\" if guess < secret_number else \"Your guess is too high\")\n",
        "\n",
        "    print(f\"Congrats! The number was: {secret_number}\")\n",
        "\n",
        "if __name__ == '__main__':\n",
        "    main()\n"
      ],
      "metadata": {
        "id": "8MHiAV3GbVIY"
      },
      "execution_count": null,
      "outputs": []
    },
    {
      "cell_type": "code",
      "source": [
        "print(\"04_random_numbers\")\n",
        "\n",
        "import random\n",
        "\n",
        "N_NUMBERS = 10\n",
        "MIN_VALUE = 1\n",
        "MAX_VALUE = 100\n",
        "\n",
        "def main():\n",
        "    for _ in range(N_NUMBERS):\n",
        "        print(random.randint(MIN_VALUE, MAX_VALUE), end=\" \")\n",
        "\n",
        "if __name__ == '__main__':\n",
        "    main()\n"
      ],
      "metadata": {
        "id": "RBhIpAXgcBU-"
      },
      "execution_count": null,
      "outputs": []
    }
  ]
}