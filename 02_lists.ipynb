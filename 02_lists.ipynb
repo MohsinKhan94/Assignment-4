{
  "nbformat": 4,
  "nbformat_minor": 0,
  "metadata": {
    "colab": {
      "provenance": [],
      "authorship_tag": "ABX9TyMHIxGd2KUijgxD6fT/hdli",
      "include_colab_link": true
    },
    "kernelspec": {
      "name": "python3",
      "display_name": "Python 3"
    },
    "language_info": {
      "name": "python"
    }
  },
  "cells": [
    {
      "cell_type": "markdown",
      "metadata": {
        "id": "view-in-github",
        "colab_type": "text"
      },
      "source": [
        "<a href=\"https://colab.research.google.com/github/MohsinKhan94/Assignment-4/blob/main/02_lists.ipynb\" target=\"_parent\"><img src=\"https://colab.research.google.com/assets/colab-badge.svg\" alt=\"Open In Colab\"/></a>"
      ]
    },
    {
      "cell_type": "code",
      "source": [
        "print(\"01_add_many_number\")\n",
        "\n",
        "def add_many_numbers(numbers:list[int]) ->int:\n",
        "  return sum(numbers)\n",
        "\n",
        "def main():\n",
        "  numbers = [1,2,3,4,5]\n",
        "  print(add_many_numbers(numbers))\n",
        "\n",
        "if __name__ == '__main__':\n",
        "  main()"
      ],
      "metadata": {
        "colab": {
          "base_uri": "https://localhost:8080/"
        },
        "id": "wxd-nsz47-fg",
        "outputId": "3fe3f600-86be-4bec-f58a-a2eb7338854b"
      },
      "execution_count": 10,
      "outputs": [
        {
          "output_type": "stream",
          "name": "stdout",
          "text": [
            "01_add_many_number\n",
            "15\n"
          ]
        }
      ]
    },
    {
      "cell_type": "code",
      "source": [
        "print(\"02_double_list\")\n",
        "\n",
        "def main():\n",
        "  numbers = [1,2,3,4,5]\n",
        "  numbers = [num * 2 for num in numbers]  # Double each element using list comprehension\n",
        "  print(numbers)\n",
        "\n",
        "if __name__ == '__main__':\n",
        "  main()"
      ],
      "metadata": {
        "colab": {
          "base_uri": "https://localhost:8080/"
        },
        "id": "NY5UBhI3-Hvp",
        "outputId": "a8a35edd-7225-45f2-d221-183f94da14da"
      },
      "execution_count": 11,
      "outputs": [
        {
          "output_type": "stream",
          "name": "stdout",
          "text": [
            "02_double_list\n",
            "[2, 4, 6, 8, 10]\n"
          ]
        }
      ]
    },
    {
      "cell_type": "code",
      "source": [
        "print(\"03_erase_canvas\")\n",
        "\n",
        "from graphics import Canvas\n",
        "import time\n",
        "\n",
        "CANVAS_SIZE = 400\n",
        "CELL_SIZE = 40\n",
        "ERASER_SIZE = 20\n",
        "\n",
        "def erase(canvas, eraser):\n",
        "    \"\"\"Erase cells in contact with the eraser.\"\"\"\n",
        "    x, y = canvas.get_mouse_x(), canvas.get_mouse_y()\n",
        "    for obj in canvas.find_overlapping(x, y, x + ERASER_SIZE, y + ERASER_SIZE):\n",
        "        if obj != eraser:\n",
        "            canvas.set_color(obj, 'white')\n",
        "\n",
        "def main():\n",
        "    canvas = Canvas(CANVAS_SIZE, CANVAS_SIZE)\n",
        "\n",
        "    # Create grid\n",
        "    for row in range(0, CANVAS_SIZE, CELL_SIZE):\n",
        "        for col in range(0, CANVAS_SIZE, CELL_SIZE):\n",
        "            canvas.create_rectangle(col, row, col + CELL_SIZE, row + CELL_SIZE, 'blue')\n",
        "\n",
        "    canvas.wait_for_click()  # Wait for user click\n",
        "    x, y = canvas.get_last_click()\n",
        "\n",
        "    # Create eraser\n",
        "    eraser = canvas.create_rectangle(x, y, x + ERASER_SIZE, y + ERASER_SIZE, 'pink')\n",
        "\n",
        "    while True:\n",
        "        canvas.moveto(eraser, canvas.get_mouse_x(), canvas.get_mouse_y())\n",
        "        erase(canvas, eraser)\n",
        "        time.sleep(0.05)\n",
        "\n",
        "if __name__ == '__main__':\n",
        "    main()\n"
      ],
      "metadata": {
        "id": "e8PBIzWE_jl-"
      },
      "execution_count": null,
      "outputs": []
    },
    {
      "cell_type": "code",
      "source": [
        "print(\"04_flowing_with_data_structures\")\n",
        "\n",
        "def add_three_copies(my_list, data):\n",
        "    for i in range(3):\n",
        "        my_list.append(data)\n",
        "\n",
        "\n",
        "def main():\n",
        "    message = input(\"Enter a message to copy: \")\n",
        "    my_list = []\n",
        "    print(\"List before:\", my_list)\n",
        "    add_three_copies(my_list, message)\n",
        "    print(\"List after:\", my_list)\n",
        "\n",
        "if __name__ == \"__main__\":\n",
        "    main()"
      ],
      "metadata": {
        "colab": {
          "base_uri": "https://localhost:8080/"
        },
        "id": "YMxyZbj3AqdR",
        "outputId": "724482a9-f8ad-47b2-b536-a750823ec1c7"
      },
      "execution_count": 12,
      "outputs": [
        {
          "output_type": "stream",
          "name": "stdout",
          "text": [
            "Enter a message to copy: hello\n",
            "List before: []\n",
            "List after: ['hello', 'hello', 'hello']\n"
          ]
        }
      ]
    },
    {
      "cell_type": "code",
      "source": [
        "print(\"05_get_first_element\")\n",
        "\n",
        "def get_first_element(lst: list[str]) -> None:\n",
        "    \"\"\"\n",
        "    Prints the first element of a provided non-empty list.\n",
        "    \"\"\"\n",
        "    print(lst[0])  # Since the list is guaranteed to be non-empty, no need for checks.\n",
        "\n",
        "def get_lst() -> list[str]:\n",
        "    \"\"\"\n",
        "    Prompts the user to enter elements one at a time and returns the list.\n",
        "    Stops taking input when the user presses enter without typing anything.\n",
        "    \"\"\"\n",
        "    lst = []\n",
        "    while (elem := input(\"Enter an element (or press Enter to stop): \")):\n",
        "        lst.append(elem)\n",
        "    return lst\n",
        "\n",
        "def main():\n",
        "    lst = get_lst()\n",
        "    get_first_element(lst)  # Call the function to print the first element\n",
        "\n",
        "if __name__ == '__main__':\n",
        "    main()\n"
      ],
      "metadata": {
        "colab": {
          "base_uri": "https://localhost:8080/"
        },
        "id": "TTLzut2gBIG4",
        "outputId": "f75909f9-8ec0-4263-85cf-309e7873b7a8"
      },
      "execution_count": 13,
      "outputs": [
        {
          "output_type": "stream",
          "name": "stdout",
          "text": [
            "05_get_first_element\n",
            "Enter an element (or press Enter to stop): hello\n",
            "Enter an element (or press Enter to stop): \n",
            "hello\n"
          ]
        }
      ]
    },
    {
      "cell_type": "code",
      "source": [
        "print(\"06_get_last_element\")\n",
        "\n",
        "def get_last_element(lst: list) -> None:\n",
        "    \"\"\"\n",
        "    Prints the last element of a provided non-empty list.\n",
        "    \"\"\"\n",
        "    print(lst[-1])  # The last element can be accessed using the negative index -1\n",
        "\n",
        "def get_lst() -> list:\n",
        "    \"\"\"\n",
        "    Prompts the user to enter elements one at a time and returns the list.\n",
        "    Stops taking input when the user presses enter without typing anything.\n",
        "    \"\"\"\n",
        "    lst = []\n",
        "    while (elem := input(\"Enter an element (or press Enter to stop): \")):\n",
        "        lst.append(elem)\n",
        "    return lst\n",
        "\n",
        "def main():\n",
        "    lst = get_lst()\n",
        "    get_last_element(lst)  # Call the function to print the last element\n",
        "\n",
        "if __name__ == '__main__':\n",
        "    main()\n"
      ],
      "metadata": {
        "colab": {
          "base_uri": "https://localhost:8080/"
        },
        "id": "Mxh27zT5CA2p",
        "outputId": "201192da-affa-46a2-e8b1-ba51227e85ce"
      },
      "execution_count": 14,
      "outputs": [
        {
          "output_type": "stream",
          "name": "stdout",
          "text": [
            "06_get_last_element\n",
            "Enter an element (or press Enter to stop): hello\n",
            "Enter an element (or press Enter to stop): mohsin\n",
            "Enter an element (or press Enter to stop): khan\n",
            "Enter an element (or press Enter to stop): \n",
            "khan\n"
          ]
        }
      ]
    },
    {
      "cell_type": "code",
      "source": [
        "print(\"07_get_list\")\n",
        "\n",
        "def main():\n",
        "    lst = []  # Make an empty list to store things in\n",
        "\n",
        "    val = input(\"Enter a value: \")  # Get an initial value\n",
        "    while val:  # While the user input isn't an empty value\n",
        "        lst.append(val) # Add val to list\n",
        "        val = input(\"Enter a value: \")  # Get the next value to add\n",
        "\n",
        "    print(\"Here's the list:\", lst)\n",
        "\n",
        "\n",
        "\n",
        "\n",
        "if __name__ == '__main__':\n",
        "    main()"
      ],
      "metadata": {
        "colab": {
          "base_uri": "https://localhost:8080/"
        },
        "id": "1O1U0DDRCpQb",
        "outputId": "725c8fb7-6edf-473b-f415-c72a28737882"
      },
      "execution_count": 15,
      "outputs": [
        {
          "output_type": "stream",
          "name": "stdout",
          "text": [
            "07_get_list\n",
            "Enter a value: khan\n",
            "Enter a value: mk\n",
            "Enter a value: \n",
            "Here's the list: ['khan', 'mk']\n"
          ]
        }
      ]
    },
    {
      "cell_type": "code",
      "source": [
        "print(\"08_shorten\")\n",
        "\n",
        "MAX_LENGTH = 1\n",
        "\n",
        "def shorten(lst: list) -> None:\n",
        "    \"\"\"\n",
        "    Removes elements from the end of the list until it is MAX_LENGTH items long,\n",
        "    and prints each item it removes.\n",
        "    \"\"\"\n",
        "    while len(lst) > MAX_LENGTH:\n",
        "        removed_item = lst.pop()  # Remove the last item\n",
        "        print(f\"Removed: {removed_item}\")  # Print the removed item\n",
        "\n",
        "def main():\n",
        "    lst = ['apple', 'banana', 'cherry', 'date', 'elderberry']\n",
        "    print(\"Original list:\", lst)\n",
        "    shorten(lst)\n",
        "    print(\"Modified list:\", lst)\n",
        "\n",
        "if __name__ == '__main__':\n",
        "    main()\n"
      ],
      "metadata": {
        "colab": {
          "base_uri": "https://localhost:8080/"
        },
        "id": "yhhEcymSDJbG",
        "outputId": "0e333e90-61c6-413d-a618-4be9133333a8"
      },
      "execution_count": 20,
      "outputs": [
        {
          "output_type": "stream",
          "name": "stdout",
          "text": [
            "08_shorten\n",
            "Original list: ['apple', 'banana', 'cherry', 'date', 'elderberry']\n",
            "Removed: elderberry\n",
            "Removed: date\n",
            "Removed: cherry\n",
            "Removed: banana\n",
            "Modified list: ['apple']\n"
          ]
        }
      ]
    }
  ]
}