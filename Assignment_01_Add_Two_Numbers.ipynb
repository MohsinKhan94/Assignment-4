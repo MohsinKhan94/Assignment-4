{
  "nbformat": 4,
  "nbformat_minor": 0,
  "metadata": {
    "colab": {
      "provenance": [],
      "authorship_tag": "ABX9TyMFhM95D8uOCToqeu6I2vfX",
      "include_colab_link": true
    },
    "kernelspec": {
      "name": "python3",
      "display_name": "Python 3"
    },
    "language_info": {
      "name": "python"
    }
  },
  "cells": [
    {
      "cell_type": "markdown",
      "metadata": {
        "id": "view-in-github",
        "colab_type": "text"
      },
      "source": [
        "<a href=\"https://colab.research.google.com/github/MohsinKhan94/Assignment-4/blob/main/Assignment_01_Add_Two_Numbers.ipynb\" target=\"_parent\"><img src=\"https://colab.research.google.com/assets/colab-badge.svg\" alt=\"Open In Colab\"/></a>"
      ]
    },
    {
      "cell_type": "code",
      "execution_count": null,
      "metadata": {
        "colab": {
          "base_uri": "https://localhost:8080/"
        },
        "id": "JPJ5Q41YDI1_",
        "outputId": "cef9e770-dc8f-4f1d-91b9-95a10998898e"
      },
      "outputs": [
        {
          "output_type": "stream",
          "name": "stdout",
          "text": [
            "This program adds two numbers.\n",
            "Enter the first number: 2\n",
            "Enter the second number: 2\n",
            "The total is 4.\n"
          ]
        }
      ],
      "source": [
        "print(\"01_add_two_numbers\")\n",
        "\n",
        "\"\"\"\n",
        "Program: Add2numbers\n",
        "--------------------\n",
        "\"\"\"\n",
        "def main():\n",
        "    print(\"This program adds two numbers.\")\n",
        "    num1: str = input(\"Enter the first number: \")\n",
        "    num1: int = int(num1)\n",
        "    num2: str = input(\"Enter the second number: \")\n",
        "    num2: int = int(num2)\n",
        "    total = num1 + num2\n",
        "    print(\"The total is \" + str(total) + \".\")\n",
        "\n",
        "\n",
        "if __name__ == '__main__':\n",
        "    main()\n"
      ]
    },
    {
      "cell_type": "code",
      "source": [
        "print(\"02_agreement_bot\")\n",
        "def main():\n",
        "    print(\"🐾 Welcome to the Favorite Animal Program! 🐾\\n\")\n",
        "    animal = input(\"🌟 What's your favorite animal? \")\n",
        "    print(f\"\\n💖 Wow! My favorite animal is also {animal}! 🐾\")\n",
        "\n",
        "if __name__ == '__main__':\n",
        "    main()\n"
      ],
      "metadata": {
        "colab": {
          "base_uri": "https://localhost:8080/"
        },
        "id": "qfbyn7RHAndV",
        "outputId": "3eb98c7a-552c-4e62-e7d7-cd15f4446495"
      },
      "execution_count": null,
      "outputs": [
        {
          "output_type": "stream",
          "name": "stdout",
          "text": [
            "02_agreement_bot\n",
            "🐾 Welcome to the Favorite Animal Program! 🐾\n",
            "\n",
            "🌟 What's your favorite animal? dog\n",
            "\n",
            "💖 Wow! My favorite animal is also dog! 🐾\n"
          ]
        }
      ]
    },
    {
      "cell_type": "code",
      "source": [
        "print(\"03_fahrenheit_to_celsius\")\n",
        "\n",
        "def main():\n",
        "    print(\"🌡️ Welcome to the Temperature Converter! 🌡️\\n\")\n",
        "\n",
        "    try:\n",
        "        # Prompt user for input and convert to float\n",
        "        fahrenheit = float(input(\"🔥 Enter temperature in Fahrenheit: \"))\n",
        "\n",
        "        # Convert Fahrenheit to Celsius\n",
        "        celsius = (fahrenheit - 32) * 5.0 / 9.0\n",
        "\n",
        "        # Display the result\n",
        "        print(f\"\\n📏 Temperature: {fahrenheit:.1f}°F = {celsius:.2f}°C ❄️\")\n",
        "\n",
        "    except ValueError:\n",
        "        print(\"\\n⚠️ Please enter a valid number for temperature!\")\n",
        "\n",
        "if __name__ == '__main__':\n",
        "    main()\n"
      ],
      "metadata": {
        "colab": {
          "base_uri": "https://localhost:8080/"
        },
        "id": "LSrELutzFJrR",
        "outputId": "f4b65523-801a-4801-e06c-e10d82436d99"
      },
      "execution_count": null,
      "outputs": [
        {
          "output_type": "stream",
          "name": "stdout",
          "text": [
            "03_fahrenheit_to_celsius\n",
            "🌡️ Welcome to the Temperature Converter! 🌡️\n",
            "\n",
            "🔥 Enter temperature in Fahrenheit: 20\n",
            "\n",
            "📏 Temperature: 20.0°F = -6.67°C ❄️\n"
          ]
        }
      ]
    },
    {
      "cell_type": "code",
      "source": [
        "print(\"04_how_old_are_they\")\n",
        "\n",
        "Anton = 21\n",
        "Beth = Anton + 6\n",
        "Chen = Beth + 20\n",
        "Drew = Chen + Anton\n",
        "Ethan = Chen\n",
        "\n",
        "print(f\"Anton is {Anton}\")\n",
        "print(f\"Beth is {Beth}\")\n",
        "print(f\"Chen is {Chen}\")\n",
        "print(f\"Drew is {Drew}\")\n",
        "print(f\"Ethan is {Ethan}\")\n",
        "\n",
        "if __name__ == 'main':\n",
        "  main()"
      ],
      "metadata": {
        "colab": {
          "base_uri": "https://localhost:8080/"
        },
        "id": "7M2j4VD4G7fA",
        "outputId": "bdec38af-aca8-4ec2-fa77-900f53a74a8c"
      },
      "execution_count": null,
      "outputs": [
        {
          "output_type": "stream",
          "name": "stdout",
          "text": [
            "04_how_old_are_they\n",
            "Anton is 21\n",
            "Beth is 27\n",
            "Chen is 47\n",
            "Drew is 68\n",
            "Ethan is 47\n"
          ]
        }
      ]
    },
    {
      "cell_type": "code",
      "source": [
        "print(\"05_triangle_perimeter\")\n",
        "\n",
        "def main():\n",
        "    # Get inputs and convert them to float\n",
        "    side1 = float(input(\"What is the length of side 1? \"))\n",
        "    side2 = float(input(\"What is the length of side 2? \"))\n",
        "    side3 = float(input(\"What is the length of side 3? \"))\n",
        "\n",
        "    # Calculate and print the perimeter\n",
        "    perimeter = side1 + side2 + side3\n",
        "    print(\"The perimeter of the triangle is \" + str(perimeter))\n",
        "\n",
        "\n",
        "if __name__ == '__main__':\n",
        "    main()\n"
      ],
      "metadata": {
        "colab": {
          "base_uri": "https://localhost:8080/"
        },
        "id": "HDJ6qux0I3js",
        "outputId": "f18aa185-4899-4588-a822-c8be7753d819"
      },
      "execution_count": null,
      "outputs": [
        {
          "output_type": "stream",
          "name": "stdout",
          "text": [
            "05_triangle_perimeter\n",
            "What is the length of side 1? 2\n",
            "What is the length of side 2? 3\n",
            "What is the length of side 3? 4\n",
            "The perimeter of the triangle is 9.0\n"
          ]
        }
      ]
    },
    {
      "cell_type": "code",
      "source": [
        "print(\"06_square_number\")\n",
        "\n",
        "def main():\n",
        "    num: int = int(input(\"Type a number to see its square: \"))\n",
        "    print(str(num) + \" squared is \" + str(num ** 2))\n",
        "\n",
        "if __name__ == '__main__':\n",
        "    main()\n"
      ],
      "metadata": {
        "id": "ckcIcIJVLC6b",
        "colab": {
          "base_uri": "https://localhost:8080/"
        },
        "outputId": "38fd3722-c07e-493e-9aa2-07bfaf7500b5"
      },
      "execution_count": null,
      "outputs": [
        {
          "output_type": "stream",
          "name": "stdout",
          "text": [
            "06_square_number\n",
            "Type a number to see its square: 4\n",
            "4 squared is 16\n"
          ]
        }
      ]
    }
  ]
}