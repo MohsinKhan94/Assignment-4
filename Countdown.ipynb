{
  "nbformat": 4,
  "nbformat_minor": 0,
  "metadata": {
    "colab": {
      "provenance": [],
      "authorship_tag": "ABX9TyMFegW39tWj3srlIL23zzYu",
      "include_colab_link": true
    },
    "kernelspec": {
      "name": "python3",
      "display_name": "Python 3"
    },
    "language_info": {
      "name": "python"
    }
  },
  "cells": [
    {
      "cell_type": "markdown",
      "metadata": {
        "id": "view-in-github",
        "colab_type": "text"
      },
      "source": [
        "<a href=\"https://colab.research.google.com/github/MohsinKhan94/Assignment-4/blob/main/Countdown.ipynb\" target=\"_parent\"><img src=\"https://colab.research.google.com/assets/colab-badge.svg\" alt=\"Open In Colab\"/></a>"
      ]
    },
    {
      "cell_type": "code",
      "execution_count": 4,
      "metadata": {
        "colab": {
          "base_uri": "https://localhost:8080/"
        },
        "id": "DpIwTwyShuBI",
        "outputId": "e38e88c3-32e6-4d3f-f893-f26000723a1d"
      },
      "outputs": [
        {
          "output_type": "stream",
          "name": "stdout",
          "text": [
            "Time's up!\n"
          ]
        }
      ],
      "source": [
        "import time\n",
        "\n",
        "def countdown(seconds):\n",
        "  mins = seconds // 60\n",
        "  seconds = seconds % 60\n",
        "  print(f'{mins:02d}:{seconds:02d}', end=\"\\r\")\n",
        "  time.sleep(1)\n",
        "  seconds -= 1\n",
        "\n",
        "  if seconds >= 0:\n",
        "    countdown(seconds)\n",
        "  else:\n",
        "    print(\"Time's up!\")\n",
        "\n",
        "if __name__ == \"__main__\":\n",
        " countdown(10)\n"
      ]
    }
  ]
}