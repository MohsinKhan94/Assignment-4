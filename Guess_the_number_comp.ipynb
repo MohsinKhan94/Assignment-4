{
  "nbformat": 4,
  "nbformat_minor": 0,
  "metadata": {
    "colab": {
      "provenance": [],
      "authorship_tag": "ABX9TyNz5+R12OWw/fWCNaL5cKal",
      "include_colab_link": true
    },
    "kernelspec": {
      "name": "python3",
      "display_name": "Python 3"
    },
    "language_info": {
      "name": "python"
    }
  },
  "cells": [
    {
      "cell_type": "markdown",
      "metadata": {
        "id": "view-in-github",
        "colab_type": "text"
      },
      "source": [
        "<a href=\"https://colab.research.google.com/github/MohsinKhan94/Assignment-4/blob/main/Guess_the_number_comp.ipynb\" target=\"_parent\"><img src=\"https://colab.research.google.com/assets/colab-badge.svg\" alt=\"Open In Colab\"/></a>"
      ]
    },
    {
      "cell_type": "code",
      "execution_count": null,
      "metadata": {
        "id": "kvNMzXW0Wcoq"
      },
      "outputs": [],
      "source": [
        "import random\n",
        "\n",
        "print(\"Welcome to the Number Guessing Game!\")\n",
        "\n",
        "low = 1\n",
        "high = 15\n",
        "\n",
        "print(\"Think of a number between 1 and 15, and the computer will try to guess it.\")\n",
        "\n",
        "# Start the guessing loop\n",
        "while low <= high:\n",
        "    guess = random.randint(low, high)\n",
        "    print(f\"\\nComputer guesses: {guess}\")\n",
        "\n",
        "    feedback = input(\"Is the guess too High (H), too Low (L), or Correct (C)? \").strip().upper()\n",
        "\n",
        "    if feedback == \"C\":\n",
        "        print(f\"Yay! The computer guessed your number correctly: {guess}\")\n",
        "        break\n",
        "    elif feedback == \"H\":\n",
        "        high = guess - 1\n",
        "    elif feedback == \"L\":\n",
        "        low = guess + 1\n",
        "    else:\n",
        "        print(\"Invalid input. Please enter H (High), L (Low), or C (Correct).\")\n",
        "\n",
        "    # Check if range becomes invalid (player may have given inconsistent answers)\n",
        "    if low > high:\n",
        "        print(\"Oops! It seems there was a mistake. The number is not within the range based on your feedback.\")\n",
        "        break\n"
      ]
    }
  ]
}