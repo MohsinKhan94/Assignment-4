{
  "nbformat": 4,
  "nbformat_minor": 0,
  "metadata": {
    "colab": {
      "provenance": [],
      "authorship_tag": "ABX9TyNI0Kw6l73MW2/kkt5RY5nI",
      "include_colab_link": true
    },
    "kernelspec": {
      "name": "python3",
      "display_name": "Python 3"
    },
    "language_info": {
      "name": "python"
    }
  },
  "cells": [
    {
      "cell_type": "markdown",
      "metadata": {
        "id": "view-in-github",
        "colab_type": "text"
      },
      "source": [
        "<a href=\"https://colab.research.google.com/github/MohsinKhan94/Assignment-4/blob/main/Rock_paper_secissor.ipynb\" target=\"_parent\"><img src=\"https://colab.research.google.com/assets/colab-badge.svg\" alt=\"Open In Colab\"/></a>"
      ]
    },
    {
      "cell_type": "code",
      "execution_count": null,
      "metadata": {
        "colab": {
          "base_uri": "https://localhost:8080/"
        },
        "id": "KNh6GgbJb21b",
        "outputId": "25992739-f336-4bec-aa56-e18802e46e3e"
      },
      "outputs": [
        {
          "output_type": "stream",
          "name": "stdout",
          "text": [
            "Welcome to the Rock, Paper, Scissors Game!\n",
            "Let's Play!\n",
            "Choose Rock, Paper, Scissors or Q to quit: Rock\n",
            "Computer chooses: Paper\n",
            "Computer wins this round!\n",
            "Current score -> User: 0 | Computer: 1\n",
            "Choose Rock, Paper, Scissors or Q to quit: Paper\n",
            "Computer chooses: Paper\n",
            "It's a tie!\n",
            "Current score -> User: 0 | Computer: 1\n",
            "Choose Rock, Paper, Scissors or Q to quit: Rock\n",
            "Computer chooses: Paper\n",
            "Computer wins this round!\n",
            "Current score -> User: 0 | Computer: 2\n",
            "Choose Rock, Paper, Scissors or Q to quit: Rock\n",
            "Computer chooses: Paper\n",
            "Computer wins this round!\n",
            "Current score -> User: 0 | Computer: 3\n",
            "Choose Rock, Paper, Scissors or Q to quit: Paper\n",
            "Computer chooses: Scissors\n",
            "Computer wins this round!\n",
            "Current score -> User: 0 | Computer: 4\n",
            "Choose Rock, Paper, Scissors or Q to quit: Rock\n",
            "Computer chooses: Scissors\n",
            "You win this round!\n",
            "Current score -> User: 1 | Computer: 4\n"
          ]
        }
      ],
      "source": [
        "import random\n",
        "\n",
        "print(\"Welcome to the Rock, Paper, Scissors Game!\")\n",
        "\n",
        "choices = ['rock', 'paper', 'scissors']\n",
        "user_score = comp_score = 0\n",
        "print(\"Let's Play!\")\n",
        "\n",
        "while True:\n",
        "    user_input = input(\"Choose Rock, Paper, Scissors or Q to quit: \").lower()\n",
        "\n",
        "    if user_input == 'q':\n",
        "        print(\"Final score is:\")\n",
        "        print(f\"User: {user_score} | Computer: {comp_score}\")\n",
        "        print(\"Thanks for playing!\")\n",
        "        break\n",
        "\n",
        "    if user_input not in choices:\n",
        "        print(\"Invalid input! Please choose Rock, Paper, or Scissors.\")\n",
        "        continue\n",
        "\n",
        "    # Computer makes its choice\n",
        "    comp_input = random.choice(choices)\n",
        "    print(f\"Computer chooses: {comp_input.capitalize()}\")\n",
        "\n",
        "    # Determine the winner\n",
        "    if user_input == comp_input:\n",
        "        print(\"It's a tie!\")\n",
        "    elif (user_input == 'rock' and comp_input == 'scissors') or \\\n",
        "         (user_input == 'scissors' and comp_input == 'paper') or \\\n",
        "         (user_input == 'paper' and comp_input == 'rock'):\n",
        "        print(\"You win this round!\")\n",
        "        user_score += 1\n",
        "    else:\n",
        "        print(\"Computer wins this round!\")\n",
        "        comp_score += 1\n",
        "\n",
        "    # Display current scores\n",
        "    print(f\"Current score -> User: {user_score} | Computer: {comp_score}\")\n"
      ]
    }
  ]
}