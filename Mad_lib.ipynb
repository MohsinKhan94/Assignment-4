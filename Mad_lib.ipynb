{
  "nbformat": 4,
  "nbformat_minor": 0,
  "metadata": {
    "colab": {
      "provenance": [],
      "authorship_tag": "ABX9TyNBXTMFvLUCdQlpeXnlFOfp",
      "include_colab_link": true
    },
    "kernelspec": {
      "name": "python3",
      "display_name": "Python 3"
    },
    "language_info": {
      "name": "python"
    }
  },
  "cells": [
    {
      "cell_type": "markdown",
      "metadata": {
        "id": "view-in-github",
        "colab_type": "text"
      },
      "source": [
        "<a href=\"https://colab.research.google.com/github/MohsinKhan94/Assignment-4/blob/main/Mad_lib.ipynb\" target=\"_parent\"><img src=\"https://colab.research.google.com/assets/colab-badge.svg\" alt=\"Open In Colab\"/></a>"
      ]
    },
    {
      "cell_type": "code",
      "execution_count": null,
      "metadata": {
        "id": "a5PwuZSASU1z"
      },
      "outputs": [],
      "source": [
        "def mad_libs():\n",
        "    print(\"Let's play a mad libs!\")\n",
        "\n",
        "    name = input(\"Give me a name: \")\n",
        "    place = input(\"Give me a place: \")\n",
        "    verb = input(\"Give me a verb: \")\n",
        "    adjective = input(\"Give me an adjective: \")\n",
        "    funny_exclamation = input(\"Give me a funny exclamation: \")\n",
        "\n",
        "    story = f\"\"\"\n",
        "    Once upon a time, there was a person named {name} who lived in {place}.\n",
        "    One day, {name} decided to {verb} through the forest. It was a(n) {adjective} day.\n",
        "    Suddenly, {name} heard a loud noise and shouted, \"{funny_exclamation}!\"\n",
        "    It turned out to be just a squirrel juggling pinecones.\n",
        "    And from that day on, {name} always remembered to carry snacks—just in case.\n",
        "    \"\"\"\n",
        "\n",
        "    print(story)\n",
        "\n",
        "# Run the function\n",
        "mad_libs()\n"
      ]
    }
  ]
}