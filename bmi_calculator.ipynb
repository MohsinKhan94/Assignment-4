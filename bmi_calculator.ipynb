{
  "nbformat": 4,
  "nbformat_minor": 0,
  "metadata": {
    "colab": {
      "provenance": [],
      "authorship_tag": "ABX9TyOBSHOYkqEa+GY7jy4r+M6e",
      "include_colab_link": true
    },
    "kernelspec": {
      "name": "python3",
      "display_name": "Python 3"
    },
    "language_info": {
      "name": "python"
    }
  },
  "cells": [
    {
      "cell_type": "markdown",
      "metadata": {
        "id": "view-in-github",
        "colab_type": "text"
      },
      "source": [
        "<a href=\"https://colab.research.google.com/github/MohsinKhan94/Assignment-4/blob/main/bmi_calculator.ipynb\" target=\"_parent\"><img src=\"https://colab.research.google.com/assets/colab-badge.svg\" alt=\"Open In Colab\"/></a>"
      ]
    },
    {
      "cell_type": "code",
      "execution_count": null,
      "metadata": {
        "id": "Wz58fSZMk1jp"
      },
      "outputs": [],
      "source": [
        "import streamlit as st\n",
        "\n",
        "# Function to calculate BMI\n",
        "def calculate_bmi(weight, height):\n",
        "    bmi = weight / (height ** 2)\n",
        "    return bmi\n",
        "\n",
        "# Streamlit UI\n",
        "st.title(\"BMI Calculator\")\n",
        "\n",
        "st.write(\"\"\"\n",
        "    This app calculates your Body Mass Index (BMI).\n",
        "    Enter your weight and height, and it will show you your BMI and category.\n",
        "\"\"\")\n",
        "\n",
        "# User input for weight and height\n",
        "weight = st.number_input(\"Enter your weight (kg):\", min_value=1.0)\n",
        "height = st.number_input(\"Enter your height (m):\", min_value=0.1)\n",
        "\n",
        "if weight and height:\n",
        "    bmi = calculate_bmi(weight, height)\n",
        "\n",
        "    st.write(f\"Your BMI is: {bmi:.2f}\")\n",
        "\n",
        "    # Categorizing BMI\n",
        "    if bmi < 18.5:\n",
        "        st.write(\"You are underweight.\")\n",
        "    elif 18.5 <= bmi < 24.9:\n",
        "        st.write(\"You have a normal weight.\")\n",
        "    elif 25 <= bmi < 29.9:\n",
        "        st.write(\"You are overweight.\")\n",
        "    else:\n",
        "        st.write(\"You are obese.\")\n"
      ]
    }
  ]
}